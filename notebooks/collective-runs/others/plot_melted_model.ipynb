{
 "cells": [
  {
   "cell_type": "code",
   "id": "initial_id",
   "metadata": {
    "collapsed": true,
    "ExecuteTime": {
     "end_time": "2025-01-20T16:18:20.042535Z",
     "start_time": "2025-01-20T16:18:20.040404Z"
    }
   },
   "source": [
    ""
   ],
   "outputs": [],
   "execution_count": null
  },
  {
   "metadata": {},
   "cell_type": "markdown",
   "source": "# 事前準備",
   "id": "b5e08fccab4b1996"
  },
  {
   "metadata": {
    "ExecuteTime": {
     "end_time": "2025-01-20T16:18:20.049576Z",
     "start_time": "2025-01-20T16:18:20.047224Z"
    }
   },
   "cell_type": "code",
   "source": [
    "import os\n",
    "import json\n",
    "\n",
    "import numpy as np\n",
    "import pandas as pd\n"
   ],
   "id": "5e79a29c3611061b",
   "outputs": [],
   "execution_count": 7
  },
  {
   "metadata": {
    "ExecuteTime": {
     "end_time": "2025-01-20T16:18:20.060794Z",
     "start_time": "2025-01-20T16:18:20.058984Z"
    }
   },
   "cell_type": "code",
   "source": [
    "# 自作モジュールの読み込み\n",
    "from modules.file_format.HDF5 import HDF5Reader\n"
   ],
   "id": "d967130bf34443d1",
   "outputs": [],
   "execution_count": 8
  },
  {
   "metadata": {
    "ExecuteTime": {
     "end_time": "2025-01-20T16:18:20.067494Z",
     "start_time": "2025-01-20T16:18:20.063331Z"
    }
   },
   "cell_type": "code",
   "source": [
    "\"\"\"pathの設定\"\"\"\n",
    "import sys\n",
    "repository_root = None\n",
    "for sys_path in sys.path:\n",
    "    if sys_path.endswith('LAMBDA-Melting'):\n",
    "        repository_root = sys_path\n",
    "if repository_root is None:\n",
    "    raise ValueError('repository_root is not set')\n",
    "\n",
    "\"\"\"plot用の設定\"\"\"\n",
    "%matplotlib inline\n",
    "import matplotlib.pyplot as plt\n",
    "plt.rcParams['mathtext.fontset'] = 'cm'     #数式用のフォントejavuserif\" or \"cm\"\n",
    "plt.rcParams['xtick.direction'] = 'in'      #x軸の目盛線 #内in')か外向き('out')か双方向か('inout')\n",
    "plt.rcParams['ytick.direction'] = 'in'      #y軸の目盛線 #内in')か外向き('out')か双方向か('inout')\n",
    "plt.rcParams['xtick.major.width'] = 1.0     #x軸主目盛り線の線幅\n",
    "plt.rcParams['ytick.major.width'] = 1.0     #y軸主目盛り線の線幅\n",
    "plt.rcParams['font.size'] = 14               #フォントの大きさ\n",
    "plt.rcParams['axes.linewidth'] = 0.8        #軸の線幅edge linewidth。囲みの太さ\n",
    "plt.rcParams['figure.dpi'] = 300\n",
    "plt.rcParams['figure.figsize'] = (8, 6)\n",
    "# Arialフォントを設定\n",
    "plt.rcParams.update({\n",
    "    \"font.family\": \"Arial\",           # フォントをArialに設定\n",
    "    \"mathtext.fontset\": \"custom\",     # カスタムフォントを指定\n",
    "    \"mathtext.rm\": \"Arial\",           # 数式の通常テキスト部分\n",
    "    \"mathtext.it\": \"Arial\",    # 数式のイタリック部分\n",
    "    \"mathtext.bf\": \"Arial\"       # 数式の太字部分\n",
    "})\n"
   ],
   "id": "ebf2c3be3abe7f5f",
   "outputs": [],
   "execution_count": 9
  },
  {
   "metadata": {},
   "cell_type": "markdown",
   "source": "# 使用するRunのリストを作成",
   "id": "99bef37f2859edc1"
  },
  {
   "metadata": {
    "ExecuteTime": {
     "end_time": "2025-01-20T16:18:20.075613Z",
     "start_time": "2025-01-20T16:18:20.072592Z"
    }
   },
   "cell_type": "code",
   "source": [
    "# hdfまでのroot\n",
    "path_to_run_setting = os.path.join(repository_root, 'settings', 'run_selector.json')\n",
    "with open(path_to_run_setting) as json_file:\n",
    "    selected_run_setting = json.load(json_file)\n",
    "\n",
    "hdf_folder = os.path.join(\n",
    "    selected_run_setting['save_root_path'],\n",
    "    'processed_hdf',\n",
    ")\n",
    "hdf_folder\n"
   ],
   "id": "f90fe6cd825fc594",
   "outputs": [
    {
     "data": {
      "text/plain": [
       "'/Users/ishizawaosamu/work/MasterThesis/save/processed_hdf'"
      ]
     },
     "execution_count": 10,
     "metadata": {},
     "output_type": "execute_result"
    }
   ],
   "execution_count": 10
  },
  {
   "metadata": {
    "ExecuteTime": {
     "end_time": "2025-01-20T16:18:20.082630Z",
     "start_time": "2025-01-20T16:18:20.080184Z"
    }
   },
   "cell_type": "code",
   "source": [
    "files = sorted(os.listdir(hdf_folder))\n",
    "files\n"
   ],
   "id": "68cdc366085322ad",
   "outputs": [
    {
     "data": {
      "text/plain": [
       "['.DS_Store',\n",
       " 'OIbDia08_1st_down_processed.hdf',\n",
       " 'OIbDia08_1st_up_processed.hdf',\n",
       " 'OIbDia08_2nd_down_processed.hdf',\n",
       " 'OIbDia08_2nd_up_processed.hdf',\n",
       " 'OIbDia08_3rd_down_processed.hdf',\n",
       " 'OIbDia08_3rd_up_processed.hdf',\n",
       " 'OIbDia08_4th_down_processed.hdf',\n",
       " 'OIbDia08_4th_up_processed.hdf',\n",
       " 'OIbDia08_5th_down_processed.hdf',\n",
       " 'OIbDia08_5th_up_processed.hdf',\n",
       " 'OIbDia08_6th_down_processed.hdf',\n",
       " 'OIbDia08_6th_up_processed.hdf',\n",
       " 'OIbDia08_7th_down_processed.hdf',\n",
       " 'OIbDia08_7th_up_processed.hdf']"
      ]
     },
     "execution_count": 11,
     "metadata": {},
     "output_type": "execute_result"
    }
   ],
   "execution_count": 11
  },
  {
   "metadata": {},
   "cell_type": "code",
   "outputs": [],
   "execution_count": null,
   "source": "",
   "id": "6242efdb56e3ba35"
  },
  {
   "metadata": {
    "ExecuteTime": {
     "end_time": "2025-01-20T16:18:20.152605Z",
     "start_time": "2025-01-20T16:18:20.150636Z"
    }
   },
   "cell_type": "code",
   "source": [
    "# リストを作成\n",
    "melted_list = [\n",
    "    'OIbDia08_2nd_down',\n",
    "]\n"
   ],
   "id": "d3d19e6eb29998cc",
   "outputs": [],
   "execution_count": 12
  },
  {
   "metadata": {
    "ExecuteTime": {
     "end_time": "2025-01-20T16:18:20.178315Z",
     "start_time": "2025-01-20T16:18:20.163093Z"
    }
   },
   "cell_type": "code",
   "source": [
    "# hdf化\n",
    "melted_hdf = []\n",
    "\n",
    "for file in files:\n",
    "    for melted in melted_list:\n",
    "        if (melted in file) and (not file.startswith('.')):\n",
    "            melted_hdf.append(HDF5Reader(os.path.join(hdf_folder, file)))"
   ],
   "id": "defaa571453a73e0",
   "outputs": [
    {
     "name": "stdout",
     "output_type": "stream",
     "text": [
      "HDF5ファイルが見つかりました: /Users/ishizawaosamu/work/MasterThesis/save/processed_hdf/OIbDia08_2nd_down_processed.hdf\n"
     ]
    }
   ],
   "execution_count": 13
  },
  {
   "metadata": {},
   "cell_type": "markdown",
   "source": "# a",
   "id": "57d92b7dab0976aa"
  },
  {
   "metadata": {
    "ExecuteTime": {
     "end_time": "2025-01-20T16:18:20.250942Z",
     "start_time": "2025-01-20T16:18:20.249453Z"
    }
   },
   "cell_type": "code",
   "source": "",
   "id": "ce20fc166deffa94",
   "outputs": [],
   "execution_count": null
  },
  {
   "metadata": {
    "ExecuteTime": {
     "end_time": "2025-01-20T16:18:20.258466Z",
     "start_time": "2025-01-20T16:18:20.256960Z"
    }
   },
   "cell_type": "code",
   "source": "",
   "id": "9610ec51fb85a520",
   "outputs": [],
   "execution_count": null
  },
  {
   "metadata": {
    "ExecuteTime": {
     "end_time": "2025-01-20T16:18:20.265010Z",
     "start_time": "2025-01-20T16:18:20.263680Z"
    }
   },
   "cell_type": "code",
   "source": "",
   "id": "331bde0d62bf0368",
   "outputs": [],
   "execution_count": null
  },
  {
   "metadata": {
    "ExecuteTime": {
     "end_time": "2025-01-20T16:18:20.271205Z",
     "start_time": "2025-01-20T16:18:20.269847Z"
    }
   },
   "cell_type": "code",
   "source": "",
   "id": "fa138b726a34ebe",
   "outputs": [],
   "execution_count": null
  }
 ],
 "metadata": {
  "kernelspec": {
   "display_name": "Python 3",
   "language": "python",
   "name": "python3"
  },
  "language_info": {
   "codemirror_mode": {
    "name": "ipython",
    "version": 2
   },
   "file_extension": ".py",
   "mimetype": "text/x-python",
   "name": "python",
   "nbconvert_exporter": "python",
   "pygments_lexer": "ipython2",
   "version": "2.7.6"
  }
 },
 "nbformat": 4,
 "nbformat_minor": 5
}
