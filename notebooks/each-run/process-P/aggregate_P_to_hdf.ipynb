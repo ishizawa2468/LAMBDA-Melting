{
 "cells": [
  {
   "metadata": {},
   "cell_type": "markdown",
   "source": "# このnotebookについて",
   "id": "acdb20e70dae0b79"
  },
  {
   "metadata": {},
   "cell_type": "markdown",
   "source": "# 事前準備",
   "id": "d510b6d6b81839b5"
  },
  {
   "metadata": {
    "ExecuteTime": {
     "end_time": "2025-01-20T13:52:49.039753Z",
     "start_time": "2025-01-20T13:52:48.960837Z"
    }
   },
   "cell_type": "code",
   "source": [
    "import os\n",
    "import json\n",
    "\n",
    "import numpy as np"
   ],
   "id": "3b9292fedf299349",
   "outputs": [],
   "execution_count": 2
  },
  {
   "metadata": {
    "ExecuteTime": {
     "end_time": "2025-01-20T13:52:50.118294Z",
     "start_time": "2025-01-20T13:52:49.042790Z"
    }
   },
   "cell_type": "code",
   "source": [
    "# 自作モジュールの読み込み\n",
    "from modules.file_format.HDF5 import HDF5Reader, HDF5Writer\n",
    "from modules.calculator.EoS import *"
   ],
   "id": "b237a8e59796fba3",
   "outputs": [],
   "execution_count": 3
  },
  {
   "metadata": {
    "ExecuteTime": {
     "end_time": "2025-01-20T13:52:50.452490Z",
     "start_time": "2025-01-20T13:52:50.123404Z"
    }
   },
   "cell_type": "code",
   "source": [
    "\"\"\"pathの設定\"\"\"\n",
    "import sys\n",
    "repository_root = None\n",
    "for sys_path in sys.path:\n",
    "    if sys_path.endswith('LAMBDA-Melting'):\n",
    "        repository_root = sys_path\n",
    "if repository_root is None:\n",
    "    raise ValueError('repository_root is not set')\n",
    "\n",
    "\"\"\"plot用の設定\"\"\"\n",
    "%matplotlib inline\n",
    "import matplotlib.pyplot as plt\n",
    "plt.rcParams['mathtext.fontset'] = 'cm'     #数式用のフォントejavuserif\" or \"cm\"\n",
    "plt.rcParams['xtick.direction'] = 'in'      #x軸の目盛線 #内in')か外向き('out')か双方向か('inout')\n",
    "plt.rcParams['ytick.direction'] = 'in'      #y軸の目盛線 #内in')か外向き('out')か双方向か('inout')\n",
    "plt.rcParams['xtick.major.width'] = 1.0     #x軸主目盛り線の線幅\n",
    "plt.rcParams['ytick.major.width'] = 1.0     #y軸主目盛り線の線幅\n",
    "plt.rcParams['font.size'] = 14               #フォントの大きさ\n",
    "plt.rcParams['axes.linewidth'] = 0.8        #軸の線幅edge linewidth。囲みの太さ\n",
    "plt.rcParams['figure.dpi'] = 300\n",
    "plt.rcParams['figure.figsize'] = (8, 6)\n",
    "# Arialフォントを設定\n",
    "plt.rcParams.update({\n",
    "    \"font.family\": \"Arial\",           # フォントをArialに設定\n",
    "    \"mathtext.fontset\": \"custom\",     # カスタムフォントを指定\n",
    "    \"mathtext.rm\": \"Arial\",           # 数式の通常テキスト部分\n",
    "    \"mathtext.it\": \"Arial\",    # 数式のイタリック部分\n",
    "    \"mathtext.bf\": \"Arial\"       # 数式の太字部分\n",
    "})"
   ],
   "id": "720bea61c8d4b14d",
   "outputs": [],
   "execution_count": 4
  },
  {
   "metadata": {},
   "cell_type": "markdown",
   "source": "# 読み込み先の設定",
   "id": "bb951f60e1646018"
  },
  {
   "metadata": {},
   "cell_type": "markdown",
   "source": "## 選んだRunを読み込み",
   "id": "1394349c4a68cfbb"
  },
  {
   "metadata": {
    "ExecuteTime": {
     "end_time": "2025-01-20T13:52:50.463103Z",
     "start_time": "2025-01-20T13:52:50.460760Z"
    }
   },
   "cell_type": "code",
   "source": [
    "# runの読み込み\n",
    "# Run Selectorで選択したことを想定する\n",
    "path_to_run_setting = os.path.join(repository_root, 'settings', 'run_selector.json')\n",
    "with open(path_to_run_setting) as json_file:\n",
    "    selected_run_setting = json.load(json_file)"
   ],
   "id": "e977b9378c666d77",
   "outputs": [],
   "execution_count": 5
  },
  {
   "metadata": {
    "ExecuteTime": {
     "end_time": "2025-01-20T13:52:50.471092Z",
     "start_time": "2025-01-20T13:52:50.468012Z"
    }
   },
   "cell_type": "code",
   "source": "selected_run_setting",
   "id": "d9287e98b2ba9e63",
   "outputs": [
    {
     "data": {
      "text/plain": [
       "{'data_root_path': '/Users/ishizawaosamu/work/MasterThesis/data',\n",
       " 'current_run': 'OIbDia08_2nd',\n",
       " 'path_to_run_files': '/Users/ishizawaosamu/work/MasterThesis/data/BDD/OIbDia08/2nd',\n",
       " 'selected_files': {'Temperature': {'raw_radiation': 'OIbDia08_ 04.spe',\n",
       "   'dist': 'OIbDia08_ 04_separate_half_p45e-2_dist.hdf'},\n",
       "  'XRD': {'data': 'OIbDia08_4_00000.nxs',\n",
       "   'calibration': 'pyFAI_calib2_MgS400_CeO2_240511.poni'}},\n",
       " 'is_overwritten': False,\n",
       " 'save_root_path': '/Users/ishizawaosamu/work/MasterThesis/save'}"
      ]
     },
     "execution_count": 6,
     "metadata": {},
     "output_type": "execute_result"
    }
   ],
   "execution_count": 6
  },
  {
   "metadata": {},
   "cell_type": "markdown",
   "source": "## processed.hdfを読み込み",
   "id": "524419596f0e7569"
  },
  {
   "metadata": {
    "ExecuteTime": {
     "end_time": "2025-01-20T13:52:50.558918Z",
     "start_time": "2025-01-20T13:52:50.537424Z"
    }
   },
   "cell_type": "code",
   "source": [
    "# up\n",
    "up_hdf = HDF5Reader(file_path=os.path.join(\n",
    "    selected_run_setting['save_root_path'],\n",
    "    'processed_hdf',\n",
    "    f'{selected_run_setting[\"current_run\"]}_up_processed.hdf'\n",
    "))\n",
    "\n",
    "# down\n",
    "down_hdf = HDF5Reader(file_path=os.path.join(\n",
    "    selected_run_setting['save_root_path'],\n",
    "    'processed_hdf',\n",
    "    f'{selected_run_setting[\"current_run\"]}_down_processed.hdf'\n",
    "))\n",
    "\n",
    "up_hdf.path_list\n"
   ],
   "id": "ef55c32fac987ab9",
   "outputs": [
    {
     "name": "stdout",
     "output_type": "stream",
     "text": [
      "HDF5ファイルが見つかりました: /Users/ishizawaosamu/work/MasterThesis/save/processed_hdf/OIbDia08_2nd_up_processed.hdf\n",
      "HDF5ファイルが見つかりました: /Users/ishizawaosamu/work/MasterThesis/save/processed_hdf/OIbDia08_2nd_down_processed.hdf\n"
     ]
    },
    {
     "data": {
      "text/plain": [
       "['entry/error/dia111/fitted_V_max',\n",
       " 'entry/error/dia111/fitted_V_min',\n",
       " 'entry/error/kcl110/fitted_V_max',\n",
       " 'entry/error/kcl110/fitted_V_min',\n",
       " 'entry/measured/dia111/fitted_V',\n",
       " 'entry/measured/dia111/max_pos_V',\n",
       " 'entry/measured/error/T',\n",
       " 'entry/measured/kcl110/fitted_V',\n",
       " 'entry/measured/kcl110/max_pos_V',\n",
       " 'entry/measured/value/T',\n",
       " 'entry/measured/value/frame_T',\n",
       " 'entry/measured/value/frame_XRD',\n",
       " 'entry/measured/value/max_position_T',\n",
       " 'entry/measured/value/pattern',\n",
       " 'entry/measured/value/tth',\n",
       " 'entry/params/frame/T',\n",
       " 'entry/params/frame/XRD',\n",
       " 'entry/params/framerate/T',\n",
       " 'entry/params/framerate/XRD',\n",
       " 'entry/params/x-ray_wavelength',\n",
       " 'entry/pwlf_fitting/segment_2/RSS',\n",
       " 'entry/pwlf_fitting/segment_2/breakpoints_x',\n",
       " 'entry/pwlf_fitting/segment_2/breakpoints_y',\n",
       " 'entry/pwlf_fitting/segment_2/intercepts',\n",
       " 'entry/pwlf_fitting/segment_2/slopes',\n",
       " 'entry/pwlf_fitting/segment_3/RSS',\n",
       " 'entry/pwlf_fitting/segment_3/breakpoints_x',\n",
       " 'entry/pwlf_fitting/segment_3/breakpoints_y',\n",
       " 'entry/pwlf_fitting/segment_3/intercepts',\n",
       " 'entry/pwlf_fitting/segment_3/slopes',\n",
       " 'entry/pwlf_fitting/segment_4/RSS',\n",
       " 'entry/pwlf_fitting/segment_4/breakpoints_x',\n",
       " 'entry/pwlf_fitting/segment_4/breakpoints_y',\n",
       " 'entry/pwlf_fitting/segment_4/intercepts',\n",
       " 'entry/pwlf_fitting/segment_4/slopes',\n",
       " 'entry/pwlf_fitting/segment_5/RSS',\n",
       " 'entry/pwlf_fitting/segment_5/breakpoints_x',\n",
       " 'entry/pwlf_fitting/segment_5/breakpoints_y',\n",
       " 'entry/pwlf_fitting/segment_5/intercepts',\n",
       " 'entry/pwlf_fitting/segment_5/slopes']"
      ]
     },
     "execution_count": 7,
     "metadata": {},
     "output_type": "execute_result"
    }
   ],
   "execution_count": 7
  },
  {
   "metadata": {
    "ExecuteTime": {
     "end_time": "2025-01-20T13:52:50.616980Z",
     "start_time": "2025-01-20T13:52:50.615087Z"
    }
   },
   "cell_type": "code",
   "source": [
    "# データを取得\n",
    "\n"
   ],
   "id": "f187675d7f5769e9",
   "outputs": [],
   "execution_count": 8
  },
  {
   "metadata": {
    "ExecuteTime": {
     "end_time": "2025-01-20T13:52:50.629155Z",
     "start_time": "2025-01-20T13:52:50.627619Z"
    }
   },
   "cell_type": "code",
   "source": "",
   "id": "4140ab44f1718172",
   "outputs": [],
   "execution_count": null
  }
 ],
 "metadata": {
  "kernelspec": {
   "display_name": "Python 3",
   "language": "python",
   "name": "python3"
  },
  "language_info": {
   "codemirror_mode": {
    "name": "ipython",
    "version": 2
   },
   "file_extension": ".py",
   "mimetype": "text/x-python",
   "name": "python",
   "nbconvert_exporter": "python",
   "pygments_lexer": "ipython2",
   "version": "2.7.6"
  }
 },
 "nbformat": 4,
 "nbformat_minor": 5
}
