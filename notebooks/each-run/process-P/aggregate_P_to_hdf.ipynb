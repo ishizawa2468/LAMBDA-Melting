{
 "cells": [
  {
   "metadata": {},
   "cell_type": "markdown",
   "source": "# このnotebookについて",
   "id": "acdb20e70dae0b79"
  },
  {
   "metadata": {},
   "cell_type": "markdown",
   "source": "# 事前準備",
   "id": "d510b6d6b81839b5"
  },
  {
   "metadata": {
    "ExecuteTime": {
     "end_time": "2025-01-19T18:50:47.774089Z",
     "start_time": "2025-01-19T18:50:47.718588Z"
    }
   },
   "cell_type": "code",
   "source": [
    "import os\n",
    "import json\n",
    "\n",
    "import numpy as np"
   ],
   "id": "3b9292fedf299349",
   "outputs": [],
   "execution_count": 1
  },
  {
   "metadata": {
    "ExecuteTime": {
     "end_time": "2025-01-19T18:50:48.244330Z",
     "start_time": "2025-01-19T18:50:47.777267Z"
    }
   },
   "cell_type": "code",
   "source": [
    "# 自作モジュールの読み込み\n",
    "from modules.file_format.HDF5 import HDF5Reader, HDF5Writer\n"
   ],
   "id": "b237a8e59796fba3",
   "outputs": [],
   "execution_count": 2
  },
  {
   "metadata": {
    "ExecuteTime": {
     "end_time": "2025-01-19T18:50:48.565035Z",
     "start_time": "2025-01-19T18:50:48.311344Z"
    }
   },
   "cell_type": "code",
   "source": [
    "\"\"\"pathの設定\"\"\"\n",
    "import sys\n",
    "repository_root = None\n",
    "for sys_path in sys.path:\n",
    "    if sys_path.endswith('LAMBDA-Melting'):\n",
    "        repository_root = sys_path\n",
    "if repository_root is None:\n",
    "    raise ValueError('repository_root is not set')\n",
    "\n",
    "\"\"\"plot用の設定\"\"\"\n",
    "%matplotlib inline\n",
    "import matplotlib.pyplot as plt\n",
    "plt.rcParams['mathtext.fontset'] = 'cm'     #数式用のフォントejavuserif\" or \"cm\"\n",
    "plt.rcParams['xtick.direction'] = 'in'      #x軸の目盛線 #内in')か外向き('out')か双方向か('inout')\n",
    "plt.rcParams['ytick.direction'] = 'in'      #y軸の目盛線 #内in')か外向き('out')か双方向か('inout')\n",
    "plt.rcParams['xtick.major.width'] = 1.0     #x軸主目盛り線の線幅\n",
    "plt.rcParams['ytick.major.width'] = 1.0     #y軸主目盛り線の線幅\n",
    "plt.rcParams['font.size'] = 14               #フォントの大きさ\n",
    "plt.rcParams['axes.linewidth'] = 0.8        #軸の線幅edge linewidth。囲みの太さ\n",
    "plt.rcParams['figure.dpi'] = 300\n",
    "plt.rcParams['figure.figsize'] = (8, 6)\n",
    "# Arialフォントを設定\n",
    "plt.rcParams.update({\n",
    "    \"font.family\": \"Arial\",           # フォントをArialに設定\n",
    "    \"mathtext.fontset\": \"custom\",     # カスタムフォントを指定\n",
    "    \"mathtext.rm\": \"Arial\",           # 数式の通常テキスト部分\n",
    "    \"mathtext.it\": \"Arial\",    # 数式のイタリック部分\n",
    "    \"mathtext.bf\": \"Arial\"       # 数式の太字部分\n",
    "})"
   ],
   "id": "720bea61c8d4b14d",
   "outputs": [],
   "execution_count": 3
  },
  {
   "metadata": {},
   "cell_type": "markdown",
   "source": "# 読み込み先の設定",
   "id": "bb951f60e1646018"
  },
  {
   "metadata": {},
   "cell_type": "markdown",
   "source": "## 選んだRunを読み込み",
   "id": "1394349c4a68cfbb"
  },
  {
   "metadata": {
    "ExecuteTime": {
     "end_time": "2025-01-19T18:50:48.571736Z",
     "start_time": "2025-01-19T18:50:48.568730Z"
    }
   },
   "cell_type": "code",
   "source": [
    "# runの読み込み\n",
    "# Run Selectorで選択したことを想定する\n",
    "path_to_run_setting = os.path.join(repository_root, 'settings', 'run_selector.json')\n",
    "with open(path_to_run_setting) as json_file:\n",
    "    selected_run_setting = json.load(json_file)"
   ],
   "id": "e977b9378c666d77",
   "outputs": [],
   "execution_count": 4
  },
  {
   "metadata": {
    "ExecuteTime": {
     "end_time": "2025-01-19T18:50:56.600473Z",
     "start_time": "2025-01-19T18:50:56.596366Z"
    }
   },
   "cell_type": "code",
   "source": "selected_run_setting",
   "id": "d9287e98b2ba9e63",
   "outputs": [
    {
     "data": {
      "text/plain": [
       "{'data_root_path': '/Users/ishizawaosamu/work/MasterThesis/data',\n",
       " 'current_run': 'OIbDia08_2nd',\n",
       " 'path_to_run_files': '/Users/ishizawaosamu/work/MasterThesis/data/BDD/OIbDia08/2nd',\n",
       " 'selected_files': {'Temperature': {'raw_radiation': 'OIbDia08_ 04.spe',\n",
       "   'dist': 'OIbDia08_ 04_separate_half_p45e-2_dist.hdf'},\n",
       "  'XRD': {'data': 'OIbDia08_4_00000.nxs',\n",
       "   'calibration': 'pyFAI_calib2_MgS400_CeO2_240511.poni'}},\n",
       " 'is_overwritten': True,\n",
       " 'save_root_path': '/Users/ishizawaosamu/work/MasterThesis/save'}"
      ]
     },
     "execution_count": 5,
     "metadata": {},
     "output_type": "execute_result"
    }
   ],
   "execution_count": 5
  },
  {
   "metadata": {},
   "cell_type": "markdown",
   "source": "## 測定温度が入ったhdfを読み込み",
   "id": "524419596f0e7569"
  },
  {
   "metadata": {
    "ExecuteTime": {
     "end_time": "2025-01-19T18:50:48.603435Z",
     "start_time": "2025-01-19T18:50:48.602039Z"
    }
   },
   "cell_type": "code",
   "source": [
    "# up\n",
    "\n",
    "\n",
    "# down\n",
    "\n"
   ],
   "id": "ef55c32fac987ab9",
   "outputs": [],
   "execution_count": null
  },
  {
   "metadata": {
    "ExecuteTime": {
     "end_time": "2025-01-19T18:50:48.610766Z",
     "start_time": "2025-01-19T18:50:48.609367Z"
    }
   },
   "cell_type": "code",
   "source": [
    "# データを取得\n",
    "\n"
   ],
   "id": "f187675d7f5769e9",
   "outputs": [],
   "execution_count": null
  },
  {
   "metadata": {
    "ExecuteTime": {
     "end_time": "2025-01-19T18:50:48.617610Z",
     "start_time": "2025-01-19T18:50:48.616098Z"
    }
   },
   "cell_type": "code",
   "source": "",
   "id": "4140ab44f1718172",
   "outputs": [],
   "execution_count": null
  }
 ],
 "metadata": {
  "kernelspec": {
   "display_name": "Python 3",
   "language": "python",
   "name": "python3"
  },
  "language_info": {
   "codemirror_mode": {
    "name": "ipython",
    "version": 2
   },
   "file_extension": ".py",
   "mimetype": "text/x-python",
   "name": "python",
   "nbconvert_exporter": "python",
   "pygments_lexer": "ipython2",
   "version": "2.7.6"
  }
 },
 "nbformat": 4,
 "nbformat_minor": 5
}
